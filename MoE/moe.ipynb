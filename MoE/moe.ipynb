{
 "cells": [
  {
   "cell_type": "code",
   "execution_count": 5,
   "metadata": {},
   "outputs": [],
   "source": [
    "import torch\n",
    "import torch.nn as nn"
   ]
  },
  {
   "cell_type": "markdown",
   "metadata": {},
   "source": [
    "# 基础MOE\n",
    "![image.png](./images/moe_base.png)"
   ]
  },
  {
   "cell_type": "code",
   "execution_count": 6,
   "metadata": {},
   "outputs": [],
   "source": [
    "class BasicExpert(nn.Module):\n",
    "    # 一个 Expert 可以是一个最简单的， linear 层即可\n",
    "    # 也可以是 MLP 层\n",
    "    # 也可以是 更复杂的 MLP 层（active function 设置为 swiglu）\n",
    "    def __init__(self, feature_in, feature_out):\n",
    "        super().__init__()\n",
    "        self.linear = nn.Linear(feature_in, feature_out)\n",
    "\n",
    "    def forward(self, x):\n",
    "        return self.linear(x)"
   ]
  },
  {
   "cell_type": "code",
   "execution_count": 7,
   "metadata": {},
   "outputs": [
    {
     "name": "stdout",
     "output_type": "stream",
     "text": [
      "tensor([[-0.1372, -0.1287, -0.0265],\n",
      "        [-0.0618, -0.0965,  0.0337]], grad_fn=<SqueezeBackward0>)\n"
     ]
    }
   ],
   "source": [
    "class BasicMOE(nn.Module):\n",
    "    def __init__(self, feature_in, feature_out, expert_number):\n",
    "        super().__init__()\n",
    "        self.experts = nn.ModuleList(\n",
    "            [\n",
    "                BasicExpert(feature_in, feature_out) for _ in range(expert_number)\n",
    "            ]\n",
    "        )\n",
    "        # gate 就是选一个 expert \n",
    "        self.gate = nn.Linear(feature_in, expert_number)\n",
    "    \n",
    "    def forward(self, x):\n",
    "        # x 的 shape 是 （batch, feature_in)\n",
    "        expert_weight = self.gate(x)  # shape 是 (batch, expert_number)\n",
    "        expert_out_list = [\n",
    "            expert(x).unsqueeze(1) for expert in self.experts\n",
    "        ]  # 里面每一个元素的 shape 是： (batch, ) ??\n",
    "\n",
    "        # concat 起来 (batch, expert_number, feature_out)\n",
    "        expert_output = torch.cat(expert_out_list, dim=1)\n",
    "\n",
    "        # print(expert_output.size())\n",
    "\n",
    "        expert_weight = expert_weight.unsqueeze(1) # (batch, 1, expert_nuber)\n",
    "\n",
    "        # expert_weight * expert_out_list\n",
    "        output = expert_weight @ expert_output  # (batch, 1, feature_out)\n",
    "        \n",
    "        return output.squeeze()\n",
    "\n",
    "\n",
    "def test_basic_moe():\n",
    "    x = torch.rand(2, 4)\n",
    "\n",
    "    basic_moe = BasicMOE(4, 3, 2)\n",
    "    out = basic_moe(x)\n",
    "    print(out)\n",
    "\n",
    "\n",
    "test_basic_moe()"
   ]
  },
  {
   "cell_type": "markdown",
   "metadata": {},
   "source": [
    "# 参考\n",
    "- https://bruceyuan.com/llms-zero-to-hero/the-way-of-moe-model-evolution.html"
   ]
  },
  {
   "cell_type": "markdown",
   "metadata": {},
   "source": []
  }
 ],
 "metadata": {
  "kernelspec": {
   "display_name": "wxz",
   "language": "python",
   "name": "python3"
  },
  "language_info": {
   "codemirror_mode": {
    "name": "ipython",
    "version": 3
   },
   "file_extension": ".py",
   "mimetype": "text/x-python",
   "name": "python",
   "nbconvert_exporter": "python",
   "pygments_lexer": "ipython3",
   "version": "3.10.14"
  }
 },
 "nbformat": 4,
 "nbformat_minor": 2
}
