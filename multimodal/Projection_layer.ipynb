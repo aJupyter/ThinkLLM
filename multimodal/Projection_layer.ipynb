{
  "nbformat": 4,
  "nbformat_minor": 0,
  "metadata": {
    "colab": {
      "provenance": []
    },
    "kernelspec": {
      "name": "python3",
      "display_name": "Python 3"
    },
    "language_info": {
      "name": "python"
    }
  },
  "cells": [
    {
      "cell_type": "markdown",
      "source": [
        "\n",
        "# 跨模态投影层与融合算法\n",
        "实现多模态特征对齐与融合的核心组件"
      ],
      "metadata": {
        "id": "hryztAJu7SbJ"
      }
    },
    {
      "cell_type": "code",
      "source": [
        "import torch\n",
        "import torch.nn as nn\n",
        "import torch.nn.functional as F\n",
        "import matplotlib.pyplot as plt\n",
        "from sklearn.manifold import TSNE"
      ],
      "metadata": {
        "id": "3_OsJCyh5M2Q"
      },
      "execution_count": 1,
      "outputs": []
    },
    {
      "cell_type": "markdown",
      "source": [
        "## 1. 基础投影层设计\n",
        "支持模态特异性特征对齐"
      ],
      "metadata": {
        "id": "-lqcXgai7Y7q"
      }
    },
    {
      "cell_type": "code",
      "source": [
        "class ModalityProjector(nn.Module):\n",
        "    def __init__(self, in_dim, out_dim, num_layers=2):\n",
        "        super().__init__()\n",
        "        layers = []\n",
        "        for _ in range(num_layers-1):\n",
        "            layers.extend([\n",
        "                nn.Linear(in_dim, in_dim//2),\n",
        "                nn.GELU(),\n",
        "                nn.LayerNorm(in_dim//2)\n",
        "            ])\n",
        "            in_dim = in_dim//2\n",
        "        layers.append(nn.Linear(in_dim, out_dim))\n",
        "        self.net = nn.Sequential(*layers)\n",
        "\n",
        "    def forward(self, x):\n",
        "        return F.normalize(self.net(x), p=2, dim=-1)  # L2归一化"
      ],
      "metadata": {
        "id": "l81hDekp5M5U"
      },
      "execution_count": 2,
      "outputs": []
    },
    {
      "cell_type": "markdown",
      "source": [
        "## 2. 跨模态融合层\n",
        "实现多种融合策略"
      ],
      "metadata": {
        "id": "AUlN-rR77dXJ"
      }
    },
    {
      "cell_type": "code",
      "source": [
        "class CrossModalFusion(nn.Module):\n",
        "    def __init__(self, mode='concat', hidden_dim=512):\n",
        "        super().__init__()\n",
        "        self.mode = mode\n",
        "\n",
        "        if mode == 'attention':\n",
        "            self.query = nn.Linear(hidden_dim, hidden_dim)\n",
        "            self.key = nn.Linear(hidden_dim, hidden_dim)\n",
        "            self.value = nn.Linear(hidden_dim, hidden_dim)\n",
        "            self.attn = nn.MultiheadAttention(hidden_dim, 8)\n",
        "        elif mode == 'mlp':\n",
        "            self.fc = nn.Sequential(\n",
        "                nn.Linear(2*hidden_dim, hidden_dim),\n",
        "                nn.GELU(),\n",
        "                nn.LayerNorm(hidden_dim)\n",
        "            )\n",
        "\n",
        "    def forward(self, feat_a, feat_b):\n",
        "        if self.mode == 'concat':\n",
        "            return torch.cat([feat_a, feat_b], dim=-1)\n",
        "        elif self.mode == 'add':\n",
        "            return feat_a + feat_b\n",
        "        elif self.mode == 'mul':\n",
        "            return feat_a * feat_b\n",
        "        elif self.mode == 'attention':\n",
        "            q = self.query(feat_a.unsqueeze(0))\n",
        "            k = self.key(feat_b.unsqueeze(0))\n",
        "            v = self.value(feat_b.unsqueeze(0))\n",
        "            attn_out, _ = self.attn(q, k, v)\n",
        "            return attn_out.squeeze(0)\n",
        "        elif self.mode == 'mlp':\n",
        "            return self.fc(torch.cat([feat_a, feat_b], dim=-1))\n",
        "        else:\n",
        "            raise ValueError(\"Unsupported fusion mode\")"
      ],
      "metadata": {
        "id": "deekJkwh5M7Z"
      },
      "execution_count": 3,
      "outputs": []
    },
    {
      "cell_type": "markdown",
      "source": [
        "## 3. 完整跨模态处理流程\n",
        "整合投影与融合模块"
      ],
      "metadata": {
        "id": "UnIkiN4G7ldJ"
      }
    },
    {
      "cell_type": "code",
      "source": [
        "class CrossModalProcessor(nn.Module):\n",
        "    def __init__(self,\n",
        "                 mod_dims={'image':2048, 'text':768},\n",
        "                 proj_dim=512,\n",
        "                 fusion_mode='concat'):\n",
        "        super().__init__()\n",
        "\n",
        "        # 模态特定投影层\n",
        "        self.projectors = nn.ModuleDict({\n",
        "            mod: ModalityProjector(dim, proj_dim)\n",
        "            for mod, dim in mod_dims.items()\n",
        "        })\n",
        "\n",
        "        # 融合层\n",
        "        self.fusion = CrossModalFusion(fusion_mode, proj_dim)\n",
        "\n",
        "        # 融合维度计算\n",
        "        if fusion_mode == 'concat':\n",
        "            self.out_dim = 2 * proj_dim\n",
        "        else:\n",
        "            self.out_dim = proj_dim\n",
        "\n",
        "    def forward(self, modality_features):\n",
        "        # 特征投影\n",
        "        projected = {\n",
        "            mod: self.projectors[mod](feat)\n",
        "            for mod, feat in modality_features.items()\n",
        "        }\n",
        "\n",
        "        # 取前两个模态进行融合\n",
        "        mods = list(projected.keys())\n",
        "        fused = self.fusion(projected[mods[0]], projected[mods[1]])\n",
        "\n",
        "        return fused"
      ],
      "metadata": {
        "id": "cJ_DHOjj5NAw"
      },
      "execution_count": 4,
      "outputs": []
    },
    {
      "cell_type": "markdown",
      "source": [
        "## 4. 测试验证\n",
        "验证多模态处理流程"
      ],
      "metadata": {
        "id": "MgI99kYJ7pfd"
      }
    },
    {
      "cell_type": "code",
      "source": [
        "if __name__ == \"__main__\":\n",
        "    # 配置参数\n",
        "    config = {\n",
        "        'mod_dims': {'image': 2048, 'text': 768},\n",
        "        'proj_dim': 512,\n",
        "        'fusion_mode': 'attention'\n",
        "    }\n",
        "\n",
        "    # 初始化模型\n",
        "    model = CrossModalProcessor(**config)\n",
        "\n",
        "    # 创建测试数据\n",
        "    batch_size = 4\n",
        "    test_data = {\n",
        "        'image': torch.randn(batch_size, 2048),\n",
        "        'text': torch.randn(batch_size, 768)\n",
        "    }\n",
        "\n",
        "    # 前向传播\n",
        "    output = model(test_data)\n",
        "\n",
        "    print(\"输入特征维度:\")\n",
        "    for mod, feat in test_data.items():\n",
        "        print(f\"{mod}: {feat.shape}\")\n",
        "    print(\"\\n输出融合特征形状:\", output.shape)\n",
        "\n",
        "    # 参数统计\n",
        "    total_params = sum(p.numel() for p in model.parameters())\n",
        "    print(f\"\\n总参数量: {total_params/1e6:.2f}M\")"
      ],
      "metadata": {
        "colab": {
          "base_uri": "https://localhost:8080/"
        },
        "id": "pyTIOr9S5NC0",
        "outputId": "11f5d1be-33c6-44d2-d6ca-356a398b74cc"
      },
      "execution_count": 5,
      "outputs": [
        {
          "output_type": "stream",
          "name": "stdout",
          "text": [
            "输入特征维度:\n",
            "image: torch.Size([4, 2048])\n",
            "text: torch.Size([4, 768])\n",
            "\n",
            "输出融合特征形状: torch.Size([4, 512])\n",
            "\n",
            "总参数量: 4.96M\n"
          ]
        }
      ]
    },
    {
      "cell_type": "markdown",
      "source": [
        "## 5. 特征对齐可视化\n",
        "展示跨模态特征分布"
      ],
      "metadata": {
        "id": "ry-3I0Pp7uCP"
      }
    },
    {
      "cell_type": "code",
      "source": [
        "def visualize_alignment(model):\n",
        "    # 生成测试数据\n",
        "    num_samples = 100\n",
        "    image_feat = torch.randn(num_samples, 2048)\n",
        "    text_feat = torch.randn(num_samples, 768)\n",
        "\n",
        "    # 获取投影后特征\n",
        "    with torch.no_grad():\n",
        "        proj_image = model.projectors['image'](image_feat)\n",
        "        proj_text = model.projectors['text'](text_feat)\n",
        "\n",
        "    # 使用t-SNE降维\n",
        "    combined = torch.cat([proj_image, proj_text], dim=0).numpy()\n",
        "    labels = ['image']*num_samples + ['text']*num_samples\n",
        "\n",
        "    tsne = TSNE(n_components=2)\n",
        "    reduced = tsne.fit_transform(combined)\n",
        "\n",
        "    # 可视化\n",
        "    plt.figure(figsize=(10,8))\n",
        "    for i, label in enumerate(['image', 'text']):\n",
        "        mask = [l == label for l in labels]\n",
        "        plt.scatter(reduced[mask,0], reduced[mask,1], label=label)\n",
        "    plt.title(\"Cross-Modal Feature Alignment\")\n",
        "    plt.legend()\n",
        "    plt.show()\n",
        "\n",
        "# 执行可视化\n",
        "visualize_alignment(model)"
      ],
      "metadata": {
        "colab": {
          "base_uri": "https://localhost:8080/",
          "height": 699
        },
        "id": "g5ceNBU65NFl",
        "outputId": "f2b00da3-bd45-4f3b-8a6a-7cbf16292009"
      },
      "execution_count": 6,
      "outputs": [
        {
          "output_type": "display_data",
          "data": {
            "text/plain": [
              "<Figure size 1000x800 with 1 Axes>"
            ],
            "image/png": "[encoded data removed]"
          },
          "metadata": {}
        }
      ]
    },
    {
      "cell_type": "markdown",
      "source": [
        "## 6. 多模态对比学习示例\n",
        "实现跨模态对比损失"
      ],
      "metadata": {
        "id": "a7Cde7fm7yec"
      }
    },
    {
      "cell_type": "code",
      "source": [
        "class ContrastiveLoss(nn.Module):\n",
        "    def __init__(self, temperature=0.07):\n",
        "        super().__init__()\n",
        "        self.temp = temperature\n",
        "\n",
        "    def forward(self, features_a, features_b):\n",
        "        # 计算相似度矩阵\n",
        "        sim_matrix = torch.mm(features_a, features_b.T) / self.temp\n",
        "\n",
        "        # 生成目标标签\n",
        "        targets = torch.arange(features_a.size(0)).to(features_a.device)\n",
        "\n",
        "        # 对称损失计算\n",
        "        loss_a = F.cross_entropy(sim_matrix, targets)\n",
        "        loss_b = F.cross_entropy(sim_matrix.T, targets)\n",
        "        return (loss_a + loss_b) / 2"
      ],
      "metadata": {
        "id": "g4sbhDzT5NIQ"
      },
      "execution_count": 7,
      "outputs": []
    },
    {
      "cell_type": "markdown",
      "source": [
        "## 7. 端到端训练示例\n",
        "完整训练流程演示"
      ],
      "metadata": {
        "id": "i_r0PRvO72-z"
      }
    },
    {
      "cell_type": "code",
      "source": [
        "def training_example():\n",
        "    # 初始化模型\n",
        "    model = CrossModalProcessor(\n",
        "        mod_dims={'image':2048, 'text':768},\n",
        "        proj_dim=256,\n",
        "        fusion_mode='mlp'\n",
        "    )\n",
        "\n",
        "    # 定义优化器和损失函数\n",
        "    optimizer = torch.optim.AdamW(model.parameters(), lr=1e-4)\n",
        "    criterion = ContrastiveLoss()\n",
        "\n",
        "    # 模拟训练数据\n",
        "    batch_size = 32\n",
        "    train_steps = 100\n",
        "\n",
        "    for step in range(train_steps):\n",
        "        # 生成随机数据\n",
        "        image_feat = torch.randn(batch_size, 2048)\n",
        "        text_feat = torch.randn(batch_size, 768)\n",
        "\n",
        "        # 前向传播\n",
        "        fused_feat = model({'image': image_feat, 'text': text_feat})\n",
        "\n",
        "        # 拆分模态特征\n",
        "        image_proj = model.projectors['image'](image_feat)\n",
        "        text_proj = model.projectors['text'](text_feat)\n",
        "\n",
        "        # 计算对比损失\n",
        "        loss = criterion(image_proj, text_proj)\n",
        "\n",
        "        # 反向传播\n",
        "        optimizer.zero_grad()\n",
        "        loss.backward()\n",
        "        optimizer.step()\n",
        "\n",
        "        if step % 10 == 0:\n",
        "            print(f\"Step {step}, Loss: {loss.item():.4f}\")\n",
        "\n",
        "# 执行训练示例\n",
        "training_example()"
      ],
      "metadata": {
        "colab": {
          "base_uri": "https://localhost:8080/"
        },
        "id": "2Aqg1aU65NKK",
        "outputId": "abcf77d6-c854-427f-e921-2fd9926bfb4d"
      },
      "execution_count": 8,
      "outputs": [
        {
          "output_type": "stream",
          "name": "stdout",
          "text": [
            "Step 0, Loss: 3.5434\n",
            "Step 10, Loss: 3.7524\n",
            "Step 20, Loss: 3.8930\n",
            "Step 30, Loss: 4.0186\n",
            "Step 40, Loss: 3.7422\n",
            "Step 50, Loss: 4.1168\n",
            "Step 60, Loss: 3.8769\n",
            "Step 70, Loss: 3.9106\n",
            "Step 80, Loss: 3.6017\n",
            "Step 90, Loss: 3.7686\n"
          ]
        }
      ]
    }
  ]
}